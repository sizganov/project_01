{
  "nbformat": 4,
  "nbformat_minor": 0,
  "metadata": {
    "colab": {
      "provenance": []
    },
    "kernelspec": {
      "name": "python3",
      "display_name": "Python 3"
    },
    "language_info": {
      "name": "python"
    }
  },
  "cells": [
    {
      "cell_type": "code",
      "source": [
        "#Задача 4.1\n",
        "\n",
        "# Создание таблицы Students\n",
        "\n",
        "import sqlite3\n",
        "\n",
        "connection = sqlite3.connect('teachers.db')\n",
        "cursor = connection.cursor()\n",
        "query = \"\"\"CREATE TABLE Students (\n",
        "Student_Id INTEGER NOT NULL,\n",
        "Student_Name TEXT NOT NULL,\n",
        "School_Id INTEGER NOT NULL PRIMARY KEY);\"\"\"\n",
        "cursor.execute(query)\n",
        "connection.commit()\n",
        "connection.close()"
      ],
      "metadata": {
        "id": "e7GPgUbmLIfK"
      },
      "execution_count": null,
      "outputs": []
    },
    {
      "cell_type": "code",
      "source": [
        "# Наполнение таблицы Students\n",
        "\n",
        "import sqlite3\n",
        "\n",
        "connection = sqlite3.connect('teachers.db')\n",
        "cursor = connection.cursor()\n",
        "query = \"\"\"INSERT INTO Students (Student_Id, Student_Name, School_Id)\n",
        "VALUES\n",
        "('201', 'Иван', 1),\n",
        "('202', 'Петр', 2),\n",
        "('203', 'Анастасия', 3),\n",
        "('204', 'Игорь', 4);\"\"\"\n",
        "cursor.execute(query)\n",
        "connection.commit()\n",
        "connection.close()"
      ],
      "metadata": {
        "id": "AIbrqUpGLQcK"
      },
      "execution_count": null,
      "outputs": []
    },
    {
      "cell_type": "code",
      "source": [
        "# Вывести информацию о студенте по Student_Id + название школы\n",
        "# через JOIN\n",
        "\n",
        "import sqlite3\n",
        "\n",
        "def get_connection():\n",
        "  connection = sqlite3.connect('teachers.db')\n",
        "  return connection\n",
        "\n",
        "def close_connection(connection):\n",
        "  if connection:\n",
        "    connection.close()\n",
        "\n",
        "def get_student_data(school_id):\n",
        "    try:\n",
        "        connection = get_connection()\n",
        "        cursor = connection.cursor()\n",
        "        query = \"\"\"SELECT * FROM Students\n",
        "        JOIN School ON School.School_Id = Students.school_id\n",
        "        WHERE Students.School_id = ?\"\"\"\n",
        "        cursor.execute(query,(school_id,))\n",
        "        records = cursor.fetchall()\n",
        "        for row in records:\n",
        "            print (\"ID cтудента:\", row[0])\n",
        "            print (\"Имя студента:\", row[1])\n",
        "            print (\"ID школы:\", row[2])\n",
        "            print (\"Название школы:\", row[4], \"\\n\")\n",
        "    except (Exception, sqlite3.Error) as error:\n",
        "        print ('Ошибка в получении данных ', error)\n",
        "\n",
        "get_student_data(3)"
      ],
      "metadata": {
        "colab": {
          "base_uri": "https://localhost:8080/"
        },
        "id": "zojpS_bGMGcw",
        "outputId": "d7a2e489-ce27-4b1a-88bd-3da018fb7649"
      },
      "execution_count": 3,
      "outputs": [
        {
          "output_type": "stream",
          "name": "stdout",
          "text": [
            "ID cтудента: 203\n",
            "Имя студента: Анастасия\n",
            "ID школы: 3\n",
            "Название школы: Спектр \n",
            "\n"
          ]
        }
      ]
    }
  ]
}