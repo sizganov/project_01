{
  "nbformat": 4,
  "nbformat_minor": 0,
  "metadata": {
    "colab": {
      "provenance": []
    },
    "kernelspec": {
      "name": "python3",
      "display_name": "Python 3"
    },
    "language_info": {
      "name": "python"
    }
  },
  "cells": [
    {
      "cell_type": "code",
      "execution_count": 8,
      "metadata": {
        "colab": {
          "base_uri": "https://localhost:8080/"
        },
        "id": "0V376HsOTCny",
        "outputId": "b3f2c236-9578-461e-c5ce-32cbf79378bf"
      },
      "outputs": [
        {
          "output_type": "stream",
          "name": "stdout",
          "text": [
            "Введите цифры от 0 до 9: 10\n",
            "switch_it_up(10) -> None\n"
          ]
        }
      ],
      "source": [
        "# Задача 2.3.\n",
        "\n",
        "# Напишите функцию, которая принимает цифры от 0 до 9 и возвращает значение прописью.\n",
        "# Например,\n",
        "# switch_it_up(1) -> 'One'\n",
        "# switch_it_up(3) -> 'Three'\n",
        "# switch_it_up(10000) -> None\n",
        "# Использовать условный оператор if-elif-else нельзя!\n",
        "\n",
        "def switch_it_up(number):\n",
        "    pass\n",
        "\n",
        "numbers_0_9 = {\n",
        "    0: 'ноль',\n",
        "    1: 'один',\n",
        "    2: 'два',\n",
        "    3: 'три',\n",
        "    4: 'четыре',\n",
        "    5: 'пять',\n",
        "    6: 'шесть',\n",
        "    7: 'семь',\n",
        "    8: 'восемь',\n",
        "    9: 'девять'\n",
        "}\n",
        "\n",
        "def switch_it_up(number):\n",
        "    number = int(input('Введите цифры от 0 до 9: '))\n",
        "    return (f'switch_it_up({number}) -> {numbers_0_9.get(number)}')\n",
        "\n",
        "print(switch_it_up(number))"
      ]
    }
  ]
}