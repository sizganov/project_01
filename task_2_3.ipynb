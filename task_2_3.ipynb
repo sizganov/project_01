{
  "nbformat": 4,
  "nbformat_minor": 0,
  "metadata": {
    "colab": {
      "provenance": []
    },
    "kernelspec": {
      "name": "python3",
      "display_name": "Python 3"
    },
    "language_info": {
      "name": "python"
    }
  },
  "cells": [
    {
      "cell_type": "code",
      "execution_count": 10,
      "metadata": {
        "colab": {
          "base_uri": "https://localhost:8080/"
        },
        "id": "0V376HsOTCny",
        "outputId": "f108c8b3-b73b-4947-86f7-1ab117cd9cad"
      },
      "outputs": [
        {
          "output_type": "stream",
          "name": "stdout",
          "text": [
            "Введите цифры от 0 до 9: 10\n",
            "switch_it_up(10) -> None\n"
          ]
        }
      ],
      "source": [
        "# Задача 2.3.\n",
        "\n",
        "# Напишите функцию, которая принимает цифры от 0 до 9 и возвращает значение прописью.\n",
        "# Например,\n",
        "# switch_it_up(1) -> 'One'\n",
        "# switch_it_up(3) -> 'Three'\n",
        "# switch_it_up(10000) -> None\n",
        "# Использовать условный оператор if-elif-else нельзя!\n",
        "\n",
        "def switch_it_up(number):\n",
        "    pass\n",
        "\n",
        "number = {\n",
        "    0: 'ноль',\n",
        "    1: 'один',\n",
        "    2: 'два',\n",
        "    3: 'три',\n",
        "    4: 'четыре',\n",
        "    5: 'пять',\n",
        "    6: 'шесть',\n",
        "    7: 'семь',\n",
        "    8: 'восемь',\n",
        "    9: 'девять'\n",
        "}\n",
        "\n",
        "def switch_it_up(number):\n",
        "    num = int(input('Введите цифры от 0 до 9: '))\n",
        "    for i in number:\n",
        "        i = num\n",
        "    return (f'switch_it_up({i}) -> {number.get(i)}')\n",
        "\n",
        "print(switch_it_up(number))"
      ]
    }
  ]
}
