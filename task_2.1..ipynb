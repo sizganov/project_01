{
  "nbformat": 4,
  "nbformat_minor": 0,
  "metadata": {
    "colab": {
      "provenance": []
    },
    "kernelspec": {
      "name": "python3",
      "display_name": "Python 3"
    },
    "language_info": {
      "name": "python"
    }
  },
  "cells": [
    {
      "cell_type": "code",
      "execution_count": 13,
      "metadata": {
        "colab": {
          "base_uri": "https://localhost:8080/"
        },
        "id": "m8HLjZez3BJa",
        "outputId": "eba9c236-b68c-487d-9001-b7e81fe8d593"
      },
      "outputs": [
        {
          "output_type": "stream",
          "name": "stdout",
          "text": [
            "[-134, 1, 2, 4, 6, 9, 63, 566] -> max = 566, min = -134\n",
            "[-110, -54, -52, 0, 29, 30, 56] -> max = 56, min = -110\n",
            "[0, 42, 54, 65, 87] -> max = 87, min = 0\n",
            "[5] -> max = 5, min = 5\n"
          ]
        }
      ],
      "source": [
        "# Задача 2.1.\n",
        "\n",
        "# Создайте две функции maximum и minimum,\n",
        "# которые получают список целых чисел в качестве входных данных\n",
        "# и возвращают наибольшее и наименьшее число в этом списке соответственно.\n",
        "# Например,\n",
        "# * [4,6,2,1,9,63,-134,566]         -> max = 566, min = -134\n",
        "# * [-52, 56, 30, 29, -54, 0, -110] -> min = -110, max = 56\n",
        "# * [42, 54, 65, 87, 0]             -> min = 0, max = 87\n",
        "# * [5]                             -> min = 5, max = 5\n",
        "# функции sorted, max и min использовать нельзя!\n",
        "\n",
        "def minimum(arr):\n",
        "    pass\n",
        "\n",
        "def maximum(arr):\n",
        "    pass\n",
        "\n",
        "data = [\n",
        "    [4,6,2,1,9,63,-134,566],\n",
        "    [-52, 56, 30, 29, -54, 0, -110],\n",
        "    [42, 54, 65, 87, 0],\n",
        "    [5]\n",
        "]\n",
        "\n",
        "for arr in data:\n",
        "    def minimum(arr):\n",
        "        for i in range(len(arr)):\n",
        "            j = i - 1\n",
        "            val = arr[i]\n",
        "            while arr[j] > val and j >= 0:\n",
        "                arr[j + 1] = arr[j]\n",
        "                j -= 1\n",
        "            arr[j + 1] = val\n",
        "        return arr[0]\n",
        "    def maximum(arr):\n",
        "        for i in range(len(arr)):\n",
        "            j = i - 1\n",
        "            val = arr[i]\n",
        "            while arr[j] > val and j >= 0:\n",
        "                arr[j + 1] = arr[j]\n",
        "                j -= 1\n",
        "            arr[j + 1] = val\n",
        "        return arr[-1]\n",
        "    print (arr, f'-> max = {maximum(arr)}, min = {minimum(arr)}')"
      ]
    }
  ]
}