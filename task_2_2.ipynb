{
  "nbformat": 4,
  "nbformat_minor": 0,
  "metadata": {
    "colab": {
      "provenance": []
    },
    "kernelspec": {
      "name": "python3",
      "display_name": "Python 3"
    },
    "language_info": {
      "name": "python"
    }
  },
  "cells": [
    {
      "cell_type": "code",
      "execution_count": 33,
      "metadata": {
        "colab": {
          "base_uri": "https://localhost:8080/"
        },
        "id": "lA8f_0QNCWwg",
        "outputId": "7046c682-e92b-4f94-de2c-b37b242352ef"
      },
      "outputs": [
        {
          "output_type": "stream",
          "name": "stdout",
          "text": [
            "Введите номер месяца: 7\n",
            "месяц 7 (июль) является частью третьего квартала\n"
          ]
        }
      ],
      "source": [
        "# Задача 2.2.\n",
        "\n",
        "# Напишите функцию, которая возвращает номер квартала по номеру месяца\n",
        "# Например:\n",
        "# месяц 2 (февраль) является частью первого квартала;\n",
        "# месяц 6 (июнь) является частью второго квартала;\n",
        "# месяц 11 (ноябрь) является частью четвертого квартала.\n",
        "\n",
        "def quarter_of(month):\n",
        "    pass\n",
        "\n",
        "year = {\n",
        "    1: '(январь)',\n",
        "    2: '(февраль)',\n",
        "    3: '(март)',\n",
        "    4: '(апрель)',\n",
        "    5: '(май)',\n",
        "    6: '(июнь)',\n",
        "    7: '(июль)',\n",
        "    8: '(август)',\n",
        "    9: '(сентябрь)',\n",
        "    10: '(октябрь)',\n",
        "    11: '(ноябрь)',\n",
        "    12: '(декабрь)'\n",
        "}\n",
        "\n",
        "quarter = {\n",
        "    1: 'первого',\n",
        "    2: 'второго',\n",
        "    3: 'третьего',\n",
        "    4: 'четвёртого'\n",
        "}\n",
        "\n",
        "def quarter_of(month):\n",
        "    month = int(input('Введите номер месяца: '))\n",
        "    num_quarter = (month + 2) // 3 # Формула бухгалтера для рассчёта по дате в Excel\n",
        "    return (f'месяц {month} {year[month]} является частью {quarter[num_quarter]} квартала')\n",
        "print(quarter_of(month))"
      ]
    }
  ]
}